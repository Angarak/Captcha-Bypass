{
 "cells": [
  {
   "cell_type": "code",
   "execution_count": 40,
   "metadata": {},
   "outputs": [
    {
     "name": "stdout",
     "output_type": "stream",
     "text": [
      "vrRrG\n"
     ]
    }
   ],
   "source": [
    "from PIL import Image\n",
    "from selenium import webdriver\n",
    "from pytesseract import image_to_string \n",
    "import pytesseract\n",
    "import PIL\n",
    "\n",
    "url = \"https://ssc.nic.in/\"\n",
    "driver = webdriver.Chrome(executable_path = \"C:\\\\Users\\\\Angarak James\\\\Desktop\\\\chromedriver_win32\\\\chromedriver.exe\")\n",
    "driver.get(url)\n",
    "user_id = driver.find_element_by_xpath('//*[@id=\"txtUsername\"]')\n",
    "user_id.clear()\n",
    "user_id.send_keys('83000196221')\n",
    "password = driver.find_element_by_xpath('//*[@id=\"txtPassword\"]')\n",
    "password.clear()\n",
    "password.send_keys('Abcdefghijk')\n",
    "with open('filename.png', 'wb') as file:\n",
    "        file.write(driver.find_element_by_xpath('//*[@id=\"captchaImg\"]').screenshot_as_png)\n",
    "\n",
    "\n",
    "pytesseract.pytesseract.tesseract_cmd = 'C:\\\\Program Files (x86)\\\\Tesseract-OCR\\\\tesseract'\n",
    "im = PIL.Image.open('filename.png')\n",
    "text=image_to_string(PIL.Image.open('filename.png'))\n",
    "captcha=driver.find_element_by_xpath('//*[@id=\"txtCaptcha\"]')\n",
    "if text[0]== \"|\":\n",
    "    text=text[2:]\n",
    "else:\n",
    "    Pass\n",
    "print(text)\n",
    "\n",
    "captcha.send_keys(text)\n",
    "driver.find_element_by_xpath('//*[@id=\"btnSubmit\"]').click()\n",
    "# driver.close()\n"
   ]
  },
  {
   "cell_type": "code",
   "execution_count": 15,
   "metadata": {},
   "outputs": [
    {
     "data": {
      "text/plain": [
       "86"
      ]
     },
     "execution_count": 15,
     "metadata": {},
     "output_type": "execute_result"
    }
   ],
   "source": [
    "from pytesseract import image_to_string \n",
    "import PIL\n",
    "import pytesseract\n",
    "\n",
    "im = PIL.Image.open('filename.png')\n",
    "im.tile\n",
    "width, height = im.size \n",
    "# left = 11\n",
    "# top =  height\n",
    "# right = width\n",
    "# bottom = height\n",
    "# im1 = im.crop((left, top, right, bottom)) \n",
    "# im1.show()\n",
    "# im1 = im1.save(\"geeks.png\") \n",
    "width "
   ]
  },
  {
   "cell_type": "code",
   "execution_count": 16,
   "metadata": {},
   "outputs": [
    {
     "data": {
      "text/plain": [
       "[('zip', (0, 0, 86, 34), 54, 'RGBA')]"
      ]
     },
     "execution_count": 16,
     "metadata": {},
     "output_type": "execute_result"
    }
   ],
   "source": [
    "im.tile"
   ]
  },
  {
   "cell_type": "code",
   "execution_count": 17,
   "metadata": {},
   "outputs": [
    {
     "data": {
      "image/png": "[encoded data removed]",
      "text/plain": [
       "<Figure size 432x288 with 1 Axes>"
      ]
     },
     "metadata": {
      "needs_background": "light"
     },
     "output_type": "display_data"
    }
   ],
   "source": [
    "import numpy as np\n",
    "import matplotlib.pyplot as plt\n",
    "from PIL import Image\n",
    "\n",
    "fname = 'filename.png'\n",
    "image = Image.open(fname).convert(\"L\")\n",
    "arr = np.asarray(image)\n",
    "plt.imshow(arr, cmap='gray', vmin=0, vmax=255)\n",
    "plt.show()\n"
   ]
  }
 ],
 "metadata": {
  "kernelspec": {
   "display_name": "Python 3",
   "language": "python",
   "name": "python3"
  },
  "language_info": {
   "codemirror_mode": {
    "name": "ipython",
    "version": 3
   },
   "file_extension": ".py",
   "mimetype": "text/x-python",
   "name": "python",
   "nbconvert_exporter": "python",
   "pygments_lexer": "ipython3",
   "version": "3.7.4"
  }
 },
 "nbformat": 4,
 "nbformat_minor": 2
}
